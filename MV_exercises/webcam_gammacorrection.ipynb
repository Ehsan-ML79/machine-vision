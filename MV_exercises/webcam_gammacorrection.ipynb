{
 "cells": [
  {
   "cell_type": "code",
   "execution_count": 1,
   "id": "730a9ad4",
   "metadata": {},
   "outputs": [],
   "source": [
    "import cv2\n",
    "import numpy as np\n",
    "\n",
    "gamma = 0.4\n",
    "cam = cv2.VideoCapture(0)\n",
    "lookUpTable = np.empty((1, 256), np.uint8)\n",
    "\n",
    "while True:\n",
    "    ret, frame = cam.read()\n",
    "    height, width, _ = frame.shape\n",
    "    zeros = np.zeros([height, width], dtype=\"uint8\")\n",
    "\n",
    "    for i in range(256):\n",
    "        lookUpTable[0, i] = np.clip(pow(i / 255.0, gamma) * 255.0, 0, 255)\n",
    "\n",
    "    out = cv2.LUT(frame, lookUpTable)\n",
    "\n",
    "    cv2.imshow('Webcam Green', out)\n",
    "    if cv2.waitKey(1) & 0xFF == ord('q'):\n",
    "        break\n",
    "\n",
    "# Release camera and close windows\n",
    "cam.release()\n",
    "cv2.destroyAllWindows()"
   ]
  },
  {
   "cell_type": "code",
   "execution_count": null,
   "id": "998fa672",
   "metadata": {},
   "outputs": [],
   "source": []
  }
 ],
 "metadata": {
  "kernelspec": {
   "display_name": "Python 3",
   "language": "python",
   "name": "python3"
  },
  "language_info": {
   "codemirror_mode": {
    "name": "ipython",
    "version": 3
   },
   "file_extension": ".py",
   "mimetype": "text/x-python",
   "name": "python",
   "nbconvert_exporter": "python",
   "pygments_lexer": "ipython3",
   "version": "3.8.8"
  }
 },
 "nbformat": 4,
 "nbformat_minor": 5
}
