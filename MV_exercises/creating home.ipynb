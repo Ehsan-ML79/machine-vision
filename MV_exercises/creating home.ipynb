{
 "cells": [
  {
   "cell_type": "code",
   "execution_count": 28,
   "id": "5583156b",
   "metadata": {},
   "outputs": [
    {
     "data": {
      "image/png": "[encoded data removed]",
      "text/plain": [
       "<Figure size 432x288 with 1 Axes>"
      ]
     },
     "metadata": {
      "needs_background": "light"
     },
     "output_type": "display_data"
    }
   ],
   "source": [
    "import cv2\n",
    "import numpy as np\n",
    "import matplotlib.pyplot as plt\n",
    "\n",
    "# Create a black image\n",
    "image = np.zeros((512, 512, 3), np.uint8)\n",
    "# rectangle\n",
    "r_top_left = (100, 512)  # Top left\n",
    "r_bottom_right = (412, 300)  # Bottom right\n",
    "r_color = (0, 0, 255)\n",
    "\n",
    "cv2.rectangle(image, r_top_left, r_bottom_right, r_color, thickness=5)\n",
    "\n",
    "# triangle\n",
    "triangle_points = np.array([[100, 300], [256, 200], [412, 300]], np.int32)\n",
    "cv2.polylines(image, [triangle_points], isClosed=True, color=(0, 255, 0), thickness=5)\n",
    "\n",
    "cv2.imshow(\"simple home\", image)\n",
    "plt.imshow(image[...,::-1])\n",
    "cv2.waitKey(0)\n",
    "cv2.destroyAllWindows()"
   ]
  },
  {
   "cell_type": "code",
   "execution_count": null,
   "id": "211f4474",
   "metadata": {},
   "outputs": [],
   "source": []
  }
 ],
 "metadata": {
  "kernelspec": {
   "display_name": "Python 3",
   "language": "python",
   "name": "python3"
  },
  "language_info": {
   "codemirror_mode": {
    "name": "ipython",
    "version": 3
   },
   "file_extension": ".py",
   "mimetype": "text/x-python",
   "name": "python",
   "nbconvert_exporter": "python",
   "pygments_lexer": "ipython3",
   "version": "3.8.8"
  }
 },
 "nbformat": 4,
 "nbformat_minor": 5
}
