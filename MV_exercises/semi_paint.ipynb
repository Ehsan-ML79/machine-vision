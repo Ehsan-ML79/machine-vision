{
 "cells": [
  {
   "cell_type": "code",
   "execution_count": 8,
   "id": "fb638291",
   "metadata": {},
   "outputs": [
    {
     "data": {
      "text/plain": [
       "<matplotlib.image.AxesImage at 0x1f6e0bccdc0>"
      ]
     },
     "execution_count": 8,
     "metadata": {},
     "output_type": "execute_result"
    },
    {
     "data": {
      "image/png": "[encoded data removed]",
      "text/plain": [
       "<Figure size 432x288 with 1 Axes>"
      ]
     },
     "metadata": {
      "needs_background": "light"
     },
     "output_type": "display_data"
    }
   ],
   "source": [
    "import matplotlib.pyplot as plt\n",
    "import numpy as np\n",
    "import cv2\n",
    "\n",
    "drawing = False\n",
    "ix = 0\n",
    "iy = 0\n",
    "color = [0, 0, 0]  # Initialize color variable\n",
    "\n",
    "# Adding Function Attached To Mouse Callback\n",
    "def draw(event, x, y, flags, params):\n",
    "    global ix, iy, drawing, color\n",
    "    # Left Mouse Button Down Pressed\n",
    "    if event == cv2.EVENT_LBUTTONDOWN:\n",
    "        drawing = True\n",
    "        ix = x\n",
    "        iy = y\n",
    "    if event == cv2.EVENT_MOUSEMOVE:\n",
    "        if drawing == True:\n",
    "            # Get the current thickness value\n",
    "            i_thick = cv2.getTrackbarPos('thickness', 'image')\n",
    "            # Ensure the thickness is at least 1\n",
    "            i_thick = max(i_thick, 1)\n",
    "            # For Drawing Line\n",
    "            cv2.line(img, pt1=(ix, iy), pt2=(x, y), color=tuple(color), thickness=i_thick)\n",
    "            ix = x\n",
    "            iy = y\n",
    "    if event == cv2.EVENT_LBUTTONUP:\n",
    "        drawing = False\n",
    "\n",
    "def nothing(x):\n",
    "    pass\n",
    "\n",
    "# Create a black image, a window\n",
    "img = np.zeros((300, 512, 3), np.uint8)\n",
    "cv2.namedWindow('image')\n",
    "\n",
    "# create trackbars for color change\n",
    "cv2.createTrackbar('R', 'image', 0, 255, nothing)\n",
    "cv2.createTrackbar('G', 'image', 0, 255, nothing)\n",
    "cv2.createTrackbar('B', 'image', 0, 255, nothing)\n",
    "cv2.createTrackbar('thickness', 'image', 1, 5, nothing)\n",
    "\n",
    "# Adding Mouse CallBack Event\n",
    "cv2.setMouseCallback(\"image\", draw)\n",
    "\n",
    "while True:\n",
    "    cv2.imshow('image', img)\n",
    "    if cv2.waitKey(1) & 0xFF == 27:\n",
    "        break\n",
    "    # get current positions of the trackbars\n",
    "    r = cv2.getTrackbarPos('R', 'image')\n",
    "    g = cv2.getTrackbarPos('G', 'image')\n",
    "    b = cv2.getTrackbarPos('B', 'image')\n",
    "    color = [b, g, r]  # Update color based on trackbar values\n",
    "\n",
    "cv2.destroyAllWindows()\n",
    "plt.imshow(img[...,::-1])"
   ]
  },
  {
   "cell_type": "code",
   "execution_count": null,
   "id": "c0eeaf3f",
   "metadata": {},
   "outputs": [],
   "source": []
  }
 ],
 "metadata": {
  "kernelspec": {
   "display_name": "Python 3",
   "language": "python",
   "name": "python3"
  },
  "language_info": {
   "codemirror_mode": {
    "name": "ipython",
    "version": 3
   },
   "file_extension": ".py",
   "mimetype": "text/x-python",
   "name": "python",
   "nbconvert_exporter": "python",
   "pygments_lexer": "ipython3",
   "version": "3.8.8"
  }
 },
 "nbformat": 4,
 "nbformat_minor": 5
}
