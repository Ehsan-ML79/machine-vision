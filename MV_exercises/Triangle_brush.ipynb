{
 "cells": [
  {
   "cell_type": "code",
   "execution_count": 1,
   "id": "98fe4a9b",
   "metadata": {},
   "outputs": [
    {
     "data": {
      "text/plain": [
       "<matplotlib.image.AxesImage at 0x2c52160e220>"
      ]
     },
     "execution_count": 1,
     "metadata": {},
     "output_type": "execute_result"
    },
    {
     "data": {
      "image/png": "[encoded data removed]",
      "text/plain": [
       "<Figure size 432x288 with 1 Axes>"
      ]
     },
     "metadata": {
      "needs_background": "light"
     },
     "output_type": "display_data"
    }
   ],
   "source": [
    "\n",
    "import matplotlib.pyplot as plt\n",
    "import numpy as np\n",
    "import cv2\n",
    "\n",
    "drawing = False\n",
    "color = (0, 255, 0)\n",
    "\n",
    "# mouse callback function\n",
    "def brush(event, x, y, flags, param):\n",
    "    global drawing, color\n",
    "    if event == cv2.EVENT_LBUTTONDOWN:\n",
    "        drawing = True\n",
    "    elif event == cv2.EVENT_MOUSEMOVE:\n",
    "        if drawing == True:\n",
    "            # Draw a triangle\n",
    "            triangle_points = np.array([[x, y], [x + 5, y + 15], [x - 5, y + 15]], np.int32)\n",
    "            cv2.fillPoly(img, [triangle_points], color)\n",
    "    elif event == cv2.EVENT_LBUTTONUP:\n",
    "        drawing = False\n",
    "\n",
    "img = np.zeros((512, 512, 3), np.uint8)\n",
    "cv2.namedWindow('image')\n",
    "cv2.setMouseCallback('image', brush)\n",
    "\n",
    "while True:\n",
    "    cv2.imshow('image', img)\n",
    "    k = cv2.waitKey(1) & 0xFF\n",
    "    if k == ord('b'):\n",
    "        color = (255, 0, 0)\n",
    "    elif k == ord('g'):\n",
    "        color = (0, 255, 0)\n",
    "    elif k == ord('r'):\n",
    "        color = (0, 0, 255)\n",
    "    elif k == 27:\n",
    "        break\n",
    "\n",
    "cv2.destroyAllWindows()\n",
    "plt.imshow(img[..., ::-1])"
   ]
  },
  {
   "cell_type": "code",
   "execution_count": null,
   "id": "55ce1a52",
   "metadata": {},
   "outputs": [],
   "source": []
  }
 ],
 "metadata": {
  "kernelspec": {
   "display_name": "Python 3",
   "language": "python",
   "name": "python3"
  },
  "language_info": {
   "codemirror_mode": {
    "name": "ipython",
    "version": 3
   },
   "file_extension": ".py",
   "mimetype": "text/x-python",
   "name": "python",
   "nbconvert_exporter": "python",
   "pygments_lexer": "ipython3",
   "version": "3.8.8"
  }
 },
 "nbformat": 4,
 "nbformat_minor": 5
}
